{
 "cells": [
  {
   "cell_type": "markdown",
   "metadata": {},
   "source": [
    "# STAGE 3 DATA CLEANING"
   ]
  },
  {
   "cell_type": "code",
   "execution_count": 1,
   "metadata": {},
   "outputs": [],
   "source": [
    "import pandas as pd "
   ]
  },
  {
   "cell_type": "code",
   "execution_count": 143,
   "metadata": {},
   "outputs": [],
   "source": [
    "df = pd.read_excel('../data/processed/DOE_Stage_2.xlsx')"
   ]
  },
  {
   "cell_type": "code",
   "execution_count": 144,
   "metadata": {},
   "outputs": [
    {
     "data": {
      "text/html": [
       "<div>\n",
       "<style scoped>\n",
       "    .dataframe tbody tr th:only-of-type {\n",
       "        vertical-align: middle;\n",
       "    }\n",
       "\n",
       "    .dataframe tbody tr th {\n",
       "        vertical-align: top;\n",
       "    }\n",
       "\n",
       "    .dataframe thead th {\n",
       "        text-align: right;\n",
       "    }\n",
       "</style>\n",
       "<table border=\"1\" class=\"dataframe\">\n",
       "  <thead>\n",
       "    <tr style=\"text-align: right;\">\n",
       "      <th></th>\n",
       "      <th>Month</th>\n",
       "      <th>Time Event Began</th>\n",
       "      <th>Time of Restoration</th>\n",
       "      <th>Area Affected</th>\n",
       "      <th>NERC Region</th>\n",
       "      <th>Alert Criteria</th>\n",
       "      <th>Event Type</th>\n",
       "      <th>Demand Loss (MW)</th>\n",
       "      <th>Number of Customers Affected</th>\n",
       "    </tr>\n",
       "  </thead>\n",
       "  <tbody>\n",
       "    <tr>\n",
       "      <th>0</th>\n",
       "      <td>January</td>\n",
       "      <td>2002-01-29 16:00:00</td>\n",
       "      <td>2002-01-29 19:30:00</td>\n",
       "      <td>Metropolitan Kansas City Area</td>\n",
       "      <td>SPP</td>\n",
       "      <td>Unkown</td>\n",
       "      <td>Severe Weather - Winter/Snow/Ice</td>\n",
       "      <td>600.0</td>\n",
       "      <td>270000.0</td>\n",
       "    </tr>\n",
       "    <tr>\n",
       "      <th>1</th>\n",
       "      <td>January</td>\n",
       "      <td>2002-01-30 06:00:00</td>\n",
       "      <td>2002-01-30 12:00:00</td>\n",
       "      <td>Oklahoma</td>\n",
       "      <td>SPP</td>\n",
       "      <td>Unknown</td>\n",
       "      <td>Severe Weather - Winter/Snow/Ice</td>\n",
       "      <td>500.0</td>\n",
       "      <td>1881134.0</td>\n",
       "    </tr>\n",
       "    <tr>\n",
       "      <th>2</th>\n",
       "      <td>January</td>\n",
       "      <td>2002-01-30 16:00:00</td>\n",
       "      <td>2002-01-30 21:00:00</td>\n",
       "      <td>Missouri</td>\n",
       "      <td>SPP</td>\n",
       "      <td>Unknown</td>\n",
       "      <td>Severe Weather - Winter/Snow/Ice</td>\n",
       "      <td>210.0</td>\n",
       "      <td>95000.0</td>\n",
       "    </tr>\n",
       "    <tr>\n",
       "      <th>3</th>\n",
       "      <td>February</td>\n",
       "      <td>2002-02-27 10:48:00</td>\n",
       "      <td>2002-02-27 11:35:00</td>\n",
       "      <td>California</td>\n",
       "      <td>WECC</td>\n",
       "      <td>Unknown</td>\n",
       "      <td>Unkown/Unspecified</td>\n",
       "      <td>300.0</td>\n",
       "      <td>255000.0</td>\n",
       "    </tr>\n",
       "    <tr>\n",
       "      <th>4</th>\n",
       "      <td>March</td>\n",
       "      <td>2002-03-09 00:00:00</td>\n",
       "      <td>2002-03-09 12:00:00</td>\n",
       "      <td>Lower Peninsula of Michigan</td>\n",
       "      <td>RFC</td>\n",
       "      <td>Unknown</td>\n",
       "      <td>Severe Weather - Unspecified/Other</td>\n",
       "      <td>190.0</td>\n",
       "      <td>190000.0</td>\n",
       "    </tr>\n",
       "  </tbody>\n",
       "</table>\n",
       "</div>"
      ],
      "text/plain": [
       "      Month    Time Event Began Time of Restoration  \\\n",
       "0   January 2002-01-29 16:00:00 2002-01-29 19:30:00   \n",
       "1   January 2002-01-30 06:00:00 2002-01-30 12:00:00   \n",
       "2   January 2002-01-30 16:00:00 2002-01-30 21:00:00   \n",
       "3  February 2002-02-27 10:48:00 2002-02-27 11:35:00   \n",
       "4     March 2002-03-09 00:00:00 2002-03-09 12:00:00   \n",
       "\n",
       "                   Area Affected NERC Region Alert Criteria  \\\n",
       "0  Metropolitan Kansas City Area         SPP         Unkown   \n",
       "1                       Oklahoma         SPP        Unknown   \n",
       "2                       Missouri         SPP        Unknown   \n",
       "3                     California        WECC        Unknown   \n",
       "4    Lower Peninsula of Michigan         RFC        Unknown   \n",
       "\n",
       "                           Event Type  Demand Loss (MW)  \\\n",
       "0    Severe Weather - Winter/Snow/Ice             600.0   \n",
       "1    Severe Weather - Winter/Snow/Ice             500.0   \n",
       "2    Severe Weather - Winter/Snow/Ice             210.0   \n",
       "3                  Unkown/Unspecified             300.0   \n",
       "4  Severe Weather - Unspecified/Other             190.0   \n",
       "\n",
       "   Number of Customers Affected  \n",
       "0                      270000.0  \n",
       "1                     1881134.0  \n",
       "2                       95000.0  \n",
       "3                      255000.0  \n",
       "4                      190000.0  "
      ]
     },
     "execution_count": 144,
     "metadata": {},
     "output_type": "execute_result"
    }
   ],
   "source": [
    "df.head()"
   ]
  },
  {
   "cell_type": "code",
   "execution_count": 145,
   "metadata": {},
   "outputs": [],
   "source": [
    "col = df.columns.tolist()\n",
    "df = df.rename(str.lower, axis='columns')"
   ]
  },
  {
   "cell_type": "code",
   "execution_count": 146,
   "metadata": {},
   "outputs": [
    {
     "name": "stdout",
     "output_type": "stream",
     "text": [
      "<class 'pandas.core.frame.DataFrame'>\n",
      "RangeIndex: 3892 entries, 0 to 3891\n",
      "Data columns (total 9 columns):\n",
      " #   Column                        Non-Null Count  Dtype         \n",
      "---  ------                        --------------  -----         \n",
      " 0   month                         3892 non-null   object        \n",
      " 1   time event began              3892 non-null   datetime64[ns]\n",
      " 2   time of restoration           3892 non-null   datetime64[ns]\n",
      " 3   area affected                 3892 non-null   object        \n",
      " 4   nerc region                   3892 non-null   object        \n",
      " 5   alert criteria                3892 non-null   object        \n",
      " 6   event type                    3892 non-null   object        \n",
      " 7   demand loss (mw)              2441 non-null   float64       \n",
      " 8   number of customers affected  3157 non-null   float64       \n",
      "dtypes: datetime64[ns](2), float64(2), object(5)\n",
      "memory usage: 273.8+ KB\n"
     ]
    }
   ],
   "source": [
    "df.info()"
   ]
  },
  {
   "cell_type": "code",
   "execution_count": 147,
   "metadata": {},
   "outputs": [],
   "source": [
    "df['demand loss (mw)'] = pd.to_numeric(df['demand loss (mw)'], errors='coerce')\n",
    "df['number of customers affected'] = pd.to_numeric(df['number of customers affected'], errors='coerce')"
   ]
  },
  {
   "cell_type": "code",
   "execution_count": 151,
   "metadata": {},
   "outputs": [
    {
     "name": "stdout",
     "output_type": "stream",
     "text": [
      "<class 'pandas.core.frame.DataFrame'>\n",
      "RangeIndex: 3892 entries, 0 to 3891\n",
      "Data columns (total 9 columns):\n",
      " #   Column                        Non-Null Count  Dtype         \n",
      "---  ------                        --------------  -----         \n",
      " 0   month                         3892 non-null   object        \n",
      " 1   time event began              3892 non-null   datetime64[ns]\n",
      " 2   time of restoration           3892 non-null   datetime64[ns]\n",
      " 3   area affected                 3892 non-null   object        \n",
      " 4   nerc region                   3892 non-null   object        \n",
      " 5   alert criteria                3892 non-null   object        \n",
      " 6   event type                    3892 non-null   object        \n",
      " 7   demand loss (mw)              3892 non-null   float64       \n",
      " 8   number of customers affected  3892 non-null   Int64         \n",
      "dtypes: Int64(1), datetime64[ns](2), float64(1), object(5)\n",
      "memory usage: 277.6+ KB\n"
     ]
    }
   ],
   "source": [
    "df.info()"
   ]
  },
  {
   "cell_type": "code",
   "execution_count": 152,
   "metadata": {},
   "outputs": [
    {
     "name": "stdout",
     "output_type": "stream",
     "text": [
      "month                           763\n",
      "time event began                763\n",
      "time of restoration             763\n",
      "area affected                   763\n",
      "nerc region                     763\n",
      "alert criteria                  763\n",
      "event type                      763\n",
      "demand loss (mw)                763\n",
      "number of customers affected    763\n",
      "duration                        763\n",
      "dtype: int64\n"
     ]
    }
   ],
   "source": [
    "# Calculate the duration column\n",
    "df['duration'] = df['time of restoration'] - df['time event began']\n",
    "\n",
    "# Filter rows with negative duration\n",
    "negative_duration_df = df[df['duration'] < pd.Timedelta(0)]\n",
    "\n",
    "# Display the DataFrame with negative duration\n",
    "print(negative_duration_df.count())"
   ]
  },
  {
   "cell_type": "code",
   "execution_count": 153,
   "metadata": {},
   "outputs": [],
   "source": [
    "# Create a mask for rows where the date difference is negative and 'time of restoration' starts with 00: and has minutes\n",
    "mask = (df['time of restoration'].dt.strftime('%H:%M') == '00:') & (df['time of restoration'].dt.minute > 0) & (df['time of restoration'] < df['time event began'])\n",
    "\n",
    "# Add a day to 'time of restoration' for rows where the mask is True\n",
    "df.loc[mask, 'time of restoration'] += pd.DateOffset(days=1)\n"
   ]
  },
  {
   "cell_type": "code",
   "execution_count": 154,
   "metadata": {},
   "outputs": [
    {
     "data": {
      "text/html": [
       "<div>\n",
       "<style scoped>\n",
       "    .dataframe tbody tr th:only-of-type {\n",
       "        vertical-align: middle;\n",
       "    }\n",
       "\n",
       "    .dataframe tbody tr th {\n",
       "        vertical-align: top;\n",
       "    }\n",
       "\n",
       "    .dataframe thead th {\n",
       "        text-align: right;\n",
       "    }\n",
       "</style>\n",
       "<table border=\"1\" class=\"dataframe\">\n",
       "  <thead>\n",
       "    <tr style=\"text-align: right;\">\n",
       "      <th></th>\n",
       "      <th>month</th>\n",
       "      <th>time event began</th>\n",
       "      <th>time of restoration</th>\n",
       "      <th>area affected</th>\n",
       "      <th>nerc region</th>\n",
       "      <th>alert criteria</th>\n",
       "      <th>event type</th>\n",
       "      <th>demand loss (mw)</th>\n",
       "      <th>number of customers affected</th>\n",
       "      <th>duration</th>\n",
       "    </tr>\n",
       "  </thead>\n",
       "  <tbody>\n",
       "    <tr>\n",
       "      <th>0</th>\n",
       "      <td>January</td>\n",
       "      <td>2002-01-29 16:00:00</td>\n",
       "      <td>2002-01-29 19:30:00</td>\n",
       "      <td>Metropolitan Kansas City Area</td>\n",
       "      <td>SPP</td>\n",
       "      <td>Unkown</td>\n",
       "      <td>Severe Weather - Winter/Snow/Ice</td>\n",
       "      <td>600.0</td>\n",
       "      <td>270000</td>\n",
       "      <td>0 days 03:30:00</td>\n",
       "    </tr>\n",
       "    <tr>\n",
       "      <th>1</th>\n",
       "      <td>January</td>\n",
       "      <td>2002-01-30 06:00:00</td>\n",
       "      <td>2002-01-30 12:00:00</td>\n",
       "      <td>Oklahoma</td>\n",
       "      <td>SPP</td>\n",
       "      <td>Unknown</td>\n",
       "      <td>Severe Weather - Winter/Snow/Ice</td>\n",
       "      <td>500.0</td>\n",
       "      <td>1881134</td>\n",
       "      <td>0 days 06:00:00</td>\n",
       "    </tr>\n",
       "    <tr>\n",
       "      <th>2</th>\n",
       "      <td>January</td>\n",
       "      <td>2002-01-30 16:00:00</td>\n",
       "      <td>2002-01-30 21:00:00</td>\n",
       "      <td>Missouri</td>\n",
       "      <td>SPP</td>\n",
       "      <td>Unknown</td>\n",
       "      <td>Severe Weather - Winter/Snow/Ice</td>\n",
       "      <td>210.0</td>\n",
       "      <td>95000</td>\n",
       "      <td>0 days 05:00:00</td>\n",
       "    </tr>\n",
       "    <tr>\n",
       "      <th>3</th>\n",
       "      <td>February</td>\n",
       "      <td>2002-02-27 10:48:00</td>\n",
       "      <td>2002-02-27 11:35:00</td>\n",
       "      <td>California</td>\n",
       "      <td>WECC</td>\n",
       "      <td>Unknown</td>\n",
       "      <td>Unkown/Unspecified</td>\n",
       "      <td>300.0</td>\n",
       "      <td>255000</td>\n",
       "      <td>0 days 00:47:00</td>\n",
       "    </tr>\n",
       "    <tr>\n",
       "      <th>4</th>\n",
       "      <td>March</td>\n",
       "      <td>2002-03-09 00:00:00</td>\n",
       "      <td>2002-03-09 12:00:00</td>\n",
       "      <td>Lower Peninsula of Michigan</td>\n",
       "      <td>RFC</td>\n",
       "      <td>Unknown</td>\n",
       "      <td>Severe Weather - Unspecified/Other</td>\n",
       "      <td>190.0</td>\n",
       "      <td>190000</td>\n",
       "      <td>0 days 12:00:00</td>\n",
       "    </tr>\n",
       "  </tbody>\n",
       "</table>\n",
       "</div>"
      ],
      "text/plain": [
       "      month    time event began time of restoration  \\\n",
       "0   January 2002-01-29 16:00:00 2002-01-29 19:30:00   \n",
       "1   January 2002-01-30 06:00:00 2002-01-30 12:00:00   \n",
       "2   January 2002-01-30 16:00:00 2002-01-30 21:00:00   \n",
       "3  February 2002-02-27 10:48:00 2002-02-27 11:35:00   \n",
       "4     March 2002-03-09 00:00:00 2002-03-09 12:00:00   \n",
       "\n",
       "                   area affected nerc region alert criteria  \\\n",
       "0  Metropolitan Kansas City Area         SPP         Unkown   \n",
       "1                       Oklahoma         SPP        Unknown   \n",
       "2                       Missouri         SPP        Unknown   \n",
       "3                     California        WECC        Unknown   \n",
       "4    Lower Peninsula of Michigan         RFC        Unknown   \n",
       "\n",
       "                           event type  demand loss (mw)  \\\n",
       "0    Severe Weather - Winter/Snow/Ice             600.0   \n",
       "1    Severe Weather - Winter/Snow/Ice             500.0   \n",
       "2    Severe Weather - Winter/Snow/Ice             210.0   \n",
       "3                  Unkown/Unspecified             300.0   \n",
       "4  Severe Weather - Unspecified/Other             190.0   \n",
       "\n",
       "   number of customers affected        duration  \n",
       "0                        270000 0 days 03:30:00  \n",
       "1                       1881134 0 days 06:00:00  \n",
       "2                         95000 0 days 05:00:00  \n",
       "3                        255000 0 days 00:47:00  \n",
       "4                        190000 0 days 12:00:00  "
      ]
     },
     "execution_count": 154,
     "metadata": {},
     "output_type": "execute_result"
    }
   ],
   "source": [
    "negative_diff_mask = df['time of restoration'] < df['time event began']\n",
    "\n",
    "# Swap dates for rows with negative date difference\n",
    "df.loc[negative_diff_mask, ['time event began', 'time of restoration']] = df.loc[negative_diff_mask, ['time of restoration', 'time event began']].values\n",
    "\n",
    "df.head()"
   ]
  },
  {
   "cell_type": "code",
   "execution_count": 155,
   "metadata": {},
   "outputs": [
    {
     "name": "stdout",
     "output_type": "stream",
     "text": [
      "month                           0\n",
      "time event began                0\n",
      "time of restoration             0\n",
      "area affected                   0\n",
      "nerc region                     0\n",
      "alert criteria                  0\n",
      "event type                      0\n",
      "demand loss (mw)                0\n",
      "number of customers affected    0\n",
      "duration                        0\n",
      "dtype: int64\n"
     ]
    }
   ],
   "source": [
    "# Calculate the duration column\n",
    "df['duration'] = df['time of restoration'] - df['time event began']\n",
    "\n",
    "# Filter rows with negative duration\n",
    "negative_duration_df = df[df['duration'] < pd.Timedelta(0)]\n",
    "\n",
    "# Display the DataFrame with negative duration\n",
    "print(negative_duration_df.count())"
   ]
  },
  {
   "cell_type": "code",
   "execution_count": 156,
   "metadata": {},
   "outputs": [],
   "source": [
    "df = df.drop('duration', axis='columns')"
   ]
  },
  {
   "cell_type": "code",
   "execution_count": 159,
   "metadata": {},
   "outputs": [],
   "source": [
    "\n",
    "import re\n",
    "# Function to extract only state names from 'Area Affected'\n",
    "def extract_states(area):\n",
    "    # Use a regular expression to find state names (assuming state names start with an uppercase letter)\n",
    "    states = re.findall(r'\\b[A-Z][a-z]*\\b', area)\n",
    "    return states\n",
    "\n",
    "df['state_temp'] = df['area affected'].apply(extract_states) \n",
    "\n"
   ]
  },
  {
   "cell_type": "code",
   "execution_count": 160,
   "metadata": {},
   "outputs": [],
   "source": [
    "# US and Canada - Ontario excluded due to US counties with similar names. Will manually validate\n",
    "valid_locations = [\n",
    "    'Alabama', 'Alaska', 'Arizona', 'Arkansas', 'California', 'Colorado', 'Connecticut',\n",
    "    'Delaware', 'District of Columbia', 'Florida', 'Georgia', 'Hawaii', 'Idaho', 'Illinois',\n",
    "    'Indiana', 'Iowa', 'Kansas', 'Kentucky', 'Louisiana', 'Maine', 'Maryland', 'Massachusetts',\n",
    "    'Michigan', 'Minnesota', 'Mississippi', 'Missouri', 'Montana', 'Nebraska', 'Nevada',\n",
    "    'New Hampshire', 'New Jersey', 'New Mexico', 'New York', 'North Carolina', 'North Dakota',\n",
    "    'Ohio', 'Oklahoma', 'Oregon', 'Pennsylvania', 'Rhode Island', 'South Carolina',\n",
    "    'South Dakota', 'Tennessee', 'Texas', 'Utah', 'Vermont','West Virginia','Virginia', 'Washington',\n",
    "    'Wisconsin', 'Wyoming','Puerto Rico', 'Nova Scocia', 'manitoba', 'Quebec', 'Alberta', 'Saskatchewan',\n",
    "    'British Columbia','Prince Edward Island', 'New Brunswick'\n",
    "]"
   ]
  },
  {
   "cell_type": "code",
   "execution_count": 161,
   "metadata": {},
   "outputs": [],
   "source": [
    "# Function to filter only valid state names from the list\n",
    "def second_extract_states(state_list):\n",
    "    return [state for state in state_list if state in valid_locations]\n",
    "\n",
    "# Apply the function to create the 'state' column\n",
    "df['state'] = df['state_temp'].apply(second_extract_states)"
   ]
  },
  {
   "cell_type": "code",
   "execution_count": 162,
   "metadata": {},
   "outputs": [],
   "source": [
    "df2 = df.copy()\n",
    "df2 = df2.rename(str.upper, axis='columns')\n",
    "\n",
    "df2.to_excel('../data/processed/DOE_Stage_3-1.xlsx', index=False)"
   ]
  },
  {
   "cell_type": "code",
   "execution_count": 21,
   "metadata": {},
   "outputs": [],
   "source": [
    "df3 = pd.read_excel('../data/processed/DOE_Stage_3-1.xlsx')\n",
    "df3 = df3.rename(str.upper, axis='columns')"
   ]
  },
  {
   "cell_type": "markdown",
   "metadata": {},
   "source": [
    "Manually save `DOE_Stage_3-2.xlsx` and clean state data."
   ]
  },
  {
   "cell_type": "code",
   "execution_count": 15,
   "metadata": {},
   "outputs": [],
   "source": [
    "df4 = pd.read_excel('../data/processed/DOE_Stage_3-2.xlsx')"
   ]
  },
  {
   "cell_type": "code",
   "execution_count": 16,
   "metadata": {},
   "outputs": [
    {
     "name": "stdout",
     "output_type": "stream",
     "text": [
      "<class 'pandas.core.frame.DataFrame'>\n",
      "RangeIndex: 3892 entries, 0 to 3891\n",
      "Data columns (total 11 columns):\n",
      " #   Column                        Non-Null Count  Dtype         \n",
      "---  ------                        --------------  -----         \n",
      " 0   MONTH                         3892 non-null   object        \n",
      " 1   TIME EVENT BEGAN              3892 non-null   datetime64[ns]\n",
      " 2   TIME OF RESTORATION           3892 non-null   datetime64[ns]\n",
      " 3   AREA AFFECTED                 3892 non-null   object        \n",
      " 4   NERC REGION                   3892 non-null   object        \n",
      " 5   ALERT CRITERIA                3892 non-null   object        \n",
      " 6   EVENT TYPE                    3892 non-null   object        \n",
      " 7   Demand Loss (MW)              2441 non-null   float64       \n",
      " 8   Number of Customers Affected  3157 non-null   float64       \n",
      " 9   STATE_TEMP                    3892 non-null   object        \n",
      " 10  STATE 3                       3892 non-null   object        \n",
      "dtypes: datetime64[ns](2), float64(2), object(7)\n",
      "memory usage: 334.6+ KB\n"
     ]
    }
   ],
   "source": [
    "df4.info()"
   ]
  },
  {
   "cell_type": "code",
   "execution_count": null,
   "metadata": {},
   "outputs": [],
   "source": [
    "# df3 = pd.concat([df3, df4['STATE 3']], axis=1)\n"
   ]
  },
  {
   "cell_type": "code",
   "execution_count": null,
   "metadata": {},
   "outputs": [],
   "source": [
    "df4.to_excel('../data/processed/DOE_Stage_3-3.xlsx', index=False)"
   ]
  },
  {
   "cell_type": "code",
   "execution_count": 1,
   "metadata": {},
   "outputs": [],
   "source": [
    "import pandas as pd "
   ]
  },
  {
   "cell_type": "code",
   "execution_count": 2,
   "metadata": {},
   "outputs": [],
   "source": [
    "df_3_3 =pd.read_excel('../data/processed/DOE_Stage_3-3.xlsx')"
   ]
  },
  {
   "cell_type": "code",
   "execution_count": 3,
   "metadata": {},
   "outputs": [
    {
     "name": "stdout",
     "output_type": "stream",
     "text": [
      "<class 'pandas.core.frame.DataFrame'>\n",
      "RangeIndex: 3892 entries, 0 to 3891\n",
      "Data columns (total 11 columns):\n",
      " #   Column                        Non-Null Count  Dtype         \n",
      "---  ------                        --------------  -----         \n",
      " 0   MONTH                         3892 non-null   object        \n",
      " 1   TIME EVENT BEGAN              3892 non-null   datetime64[ns]\n",
      " 2   TIME OF RESTORATION           3892 non-null   datetime64[ns]\n",
      " 3   AREA AFFECTED                 3892 non-null   object        \n",
      " 4   NERC REGION                   3892 non-null   object        \n",
      " 5   ALERT CRITERIA                3892 non-null   object        \n",
      " 6   EVENT TYPE                    3892 non-null   object        \n",
      " 7   DEMAND LOSS (MW)              3892 non-null   float64       \n",
      " 8   NUMBER OF CUSTOMERS AFFECTED  3892 non-null   int64         \n",
      " 9   STATE_temp                    3892 non-null   object        \n",
      " 10  STATE                         3892 non-null   object        \n",
      "dtypes: datetime64[ns](2), float64(1), int64(1), object(7)\n",
      "memory usage: 334.6+ KB\n"
     ]
    }
   ],
   "source": [
    "df_3_3.info()"
   ]
  },
  {
   "cell_type": "code",
   "execution_count": 4,
   "metadata": {},
   "outputs": [],
   "source": [
    "df_3_3 = df_3_3.drop(['STATE_temp'], axis=1)"
   ]
  },
  {
   "cell_type": "code",
   "execution_count": 5,
   "metadata": {},
   "outputs": [],
   "source": [
    "df_3_3.to_excel('../data/processed/DOE_Stage_3-4.xlsx', index=False)"
   ]
  },
  {
   "cell_type": "code",
   "execution_count": 17,
   "metadata": {},
   "outputs": [],
   "source": [
    "df_3_4 = pd.read_excel('../data/processed/DOE_Stage_3-4.xlsx')"
   ]
  },
  {
   "cell_type": "code",
   "execution_count": 18,
   "metadata": {},
   "outputs": [
    {
     "name": "stdout",
     "output_type": "stream",
     "text": [
      "208\n"
     ]
    }
   ],
   "source": [
    "# Find duplicate dates\n",
    "duplicate_dates = df_3_4[df_3_4.duplicated('TIME EVENT BEGAN', keep=False)]['TIME EVENT BEGAN']\n",
    "\n",
    "print(duplicate_dates.count())"
   ]
  },
  {
   "cell_type": "code",
   "execution_count": 19,
   "metadata": {},
   "outputs": [],
   "source": [
    "duplicate_dates.to_excel('../data/processed/duplicate-dates.xlsx', index=False)"
   ]
  },
  {
   "cell_type": "code",
   "execution_count": 22,
   "metadata": {},
   "outputs": [],
   "source": [
    "df_3_4.to_excel('../data/processed/DOE_Stage_3-5.xlsx',index=False)"
   ]
  },
  {
   "cell_type": "markdown",
   "metadata": {},
   "source": [
    "Manually review and clean duplicate data."
   ]
  },
  {
   "cell_type": "code",
   "execution_count": 1,
   "metadata": {},
   "outputs": [],
   "source": [
    "import pandas as pd \n",
    "df_3_5 = pd.read_excel('../data/processed/DOE_Stage_3-5.xlsx')"
   ]
  },
  {
   "cell_type": "code",
   "execution_count": 2,
   "metadata": {},
   "outputs": [],
   "source": [
    "missing_values = df_3_5.copy()\n",
    "missing_values.to_excel('../data/processed/DOE_Stage_3-missing-values.xlsx',index=False)\n"
   ]
  },
  {
   "cell_type": "code",
   "execution_count": 5,
   "metadata": {},
   "outputs": [],
   "source": [
    "missing_values = missing_values.rename(str.lower, axis='columns')"
   ]
  },
  {
   "cell_type": "code",
   "execution_count": 22,
   "metadata": {},
   "outputs": [
    {
     "data": {
      "text/plain": [
       "count    198.000000\n",
       "mean      12.166667\n",
       "std       30.533455\n",
       "min        0.000000\n",
       "25%        1.000000\n",
       "50%        1.000000\n",
       "75%        7.000000\n",
       "max      305.000000\n",
       "Name: demand loss (mw), dtype: float64"
      ]
     },
     "execution_count": 22,
     "metadata": {},
     "output_type": "execute_result"
    }
   ],
   "source": [
    "missing_values.groupby(['event type','nerc region'])['demand loss (mw)'].count().describe()"
   ]
  },
  {
   "cell_type": "code",
   "execution_count": 23,
   "metadata": {},
   "outputs": [
    {
     "data": {
      "text/plain": [
       "count    198.000000\n",
       "mean      15.777778\n",
       "std       39.032735\n",
       "min        0.000000\n",
       "25%        1.000000\n",
       "50%        2.000000\n",
       "75%        8.750000\n",
       "max      332.000000\n",
       "Name: number of customers affected, dtype: float64"
      ]
     },
     "execution_count": 23,
     "metadata": {},
     "output_type": "execute_result"
    }
   ],
   "source": [
    "missing_values.groupby(['event type','nerc region'])['number of customers affected'].count().describe()\n"
   ]
  },
  {
   "cell_type": "code",
   "execution_count": null,
   "metadata": {},
   "outputs": [],
   "source": []
  },
  {
   "cell_type": "code",
   "execution_count": null,
   "metadata": {},
   "outputs": [],
   "source": [
    "# fillna for \"demand loss\" based on Event type and NERC Region averages.\n",
    "\n",
    "df_3_5['demand loss (mw)'] = df_3_5.groupby(['event type','nerc region'])['demand loss (mw)'].transform(lambda x: x.fillna(x.mean()))\n",
    "df_3_5['demand loss (mw)'] = df_3_5.groupby(['event type'])['demand loss (mw)'].transform(lambda x: x.fillna(x.mean()))\n",
    "\n",
    "df_3_5['demand loss (mw)'] = df_3_5['demand loss (mw)'].round(2)"
   ]
  },
  {
   "cell_type": "code",
   "execution_count": null,
   "metadata": {},
   "outputs": [],
   "source": [
    "# fillna for \"number of customers affected\" based on Event type and NERC Region averages.\n",
    "df_3_5['number of customers affected'] = df_3_5.groupby(['event type','nerc region'])['number of customers affected'].transform(lambda x: x.fillna(x.mean()))\n",
    "df_3_5['number of customers affected'] = df_3_5.groupby(['event type'])['number of customers affected'].transform(lambda x: x.fillna(x.mean()))\n",
    "\n",
    "\n",
    "df_3_5['number of customers affected'] = df_3_5['number of customers affected'].round(0).astype('Int64')"
   ]
  },
  {
   "cell_type": "markdown",
   "metadata": {},
   "source": [
    "## Event Cleaning Complete"
   ]
  },
  {
   "cell_type": "code",
   "execution_count": null,
   "metadata": {},
   "outputs": [],
   "source": [
    "df_3_5.to_excel('../data/processed/DOE_Final.xlsx', index=False)"
   ]
  },
  {
   "cell_type": "markdown",
   "metadata": {},
   "source": [
    "## Fill Missing Non-Event Dates"
   ]
  },
  {
   "cell_type": "code",
   "execution_count": null,
   "metadata": {},
   "outputs": [],
   "source": [
    "import pandas as pd \n",
    "df_full = pd.read_excel('../data/processed/DOE_Final.xlsx')"
   ]
  },
  {
   "cell_type": "code",
   "execution_count": null,
   "metadata": {},
   "outputs": [],
   "source": []
  },
  {
   "cell_type": "code",
   "execution_count": 3,
   "metadata": {},
   "outputs": [
    {
     "ename": "NameError",
     "evalue": "name 'df_full' is not defined",
     "output_type": "error",
     "traceback": [
      "\u001b[1;31m---------------------------------------------------------------------------\u001b[0m",
      "\u001b[1;31mNameError\u001b[0m                                 Traceback (most recent call last)",
      "\u001b[1;32md:\\ds_projects\\maven-challenge\\Maven-Power-Outage-Challenge\\notebooks\\notebook.ipynb Cell 27\u001b[0m line \u001b[0;36m1\n\u001b[1;32m----> <a href='vscode-notebook-cell:/d%3A/ds_projects/maven-challenge/Maven-Power-Outage-Challenge/notebooks/notebook.ipynb#X34sZmlsZQ%3D%3D?line=0'>1</a>\u001b[0m df_full\u001b[39m.\u001b[39mto_excel(\u001b[39m'\u001b[39m\u001b[39m../data/processed/DOE_full.xlsx\u001b[39m\u001b[39m'\u001b[39m, index\u001b[39m=\u001b[39m\u001b[39mFalse\u001b[39;00m)\n",
      "\u001b[1;31mNameError\u001b[0m: name 'df_full' is not defined"
     ]
    }
   ],
   "source": [
    "df_full.to_excel('../data/processed/DOE_Full.xlsx', index=False)"
   ]
  }
 ],
 "metadata": {
  "kernelspec": {
   "display_name": ".venv",
   "language": "python",
   "name": "python3"
  },
  "language_info": {
   "codemirror_mode": {
    "name": "ipython",
    "version": 3
   },
   "file_extension": ".py",
   "mimetype": "text/x-python",
   "name": "python",
   "nbconvert_exporter": "python",
   "pygments_lexer": "ipython3",
   "version": "3.11.5"
  }
 },
 "nbformat": 4,
 "nbformat_minor": 2
}
