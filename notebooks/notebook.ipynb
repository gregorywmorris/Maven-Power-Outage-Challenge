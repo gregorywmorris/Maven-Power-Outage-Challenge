{
 "cells": [
  {
   "cell_type": "code",
   "execution_count": 1,
   "metadata": {},
   "outputs": [],
   "source": [
    "import pandas as pd \n",
    "import numpy as np\n"
   ]
  },
  {
   "cell_type": "code",
   "execution_count": 25,
   "metadata": {},
   "outputs": [],
   "source": [
    "df = pd.read_excel('../data/processed/DOE_Combined.xlsx')"
   ]
  },
  {
   "cell_type": "code",
   "execution_count": 26,
   "metadata": {},
   "outputs": [
    {
     "data": {
      "text/html": [
       "<div>\n",
       "<style scoped>\n",
       "    .dataframe tbody tr th:only-of-type {\n",
       "        vertical-align: middle;\n",
       "    }\n",
       "\n",
       "    .dataframe tbody tr th {\n",
       "        vertical-align: top;\n",
       "    }\n",
       "\n",
       "    .dataframe thead th {\n",
       "        text-align: right;\n",
       "    }\n",
       "</style>\n",
       "<table border=\"1\" class=\"dataframe\">\n",
       "  <thead>\n",
       "    <tr style=\"text-align: right;\">\n",
       "      <th></th>\n",
       "      <th>Month</th>\n",
       "      <th>Date Event Began</th>\n",
       "      <th>Time Event Began</th>\n",
       "      <th>Date of Restoration</th>\n",
       "      <th>Time of Restoration</th>\n",
       "      <th>Area Affected</th>\n",
       "      <th>NERC Region</th>\n",
       "      <th>Alert Criteria</th>\n",
       "      <th>Event Type</th>\n",
       "      <th>Demand Loss (MW)</th>\n",
       "      <th>Number of Customers Affected</th>\n",
       "    </tr>\n",
       "  </thead>\n",
       "  <tbody>\n",
       "    <tr>\n",
       "      <th>0</th>\n",
       "      <td>January</td>\n",
       "      <td>2005-01-04 00:00:00</td>\n",
       "      <td>6:00 p.m.</td>\n",
       "      <td>2005-01-14 00:00:00</td>\n",
       "      <td>12:00 p.m.</td>\n",
       "      <td>Eastern one third of the state of Kansas</td>\n",
       "      <td>SPP</td>\n",
       "      <td>Unknown</td>\n",
       "      <td>Winter Storm</td>\n",
       "      <td>211000</td>\n",
       "      <td>200</td>\n",
       "    </tr>\n",
       "    <tr>\n",
       "      <th>1</th>\n",
       "      <td>January</td>\n",
       "      <td>2005-01-05 00:00:00</td>\n",
       "      <td>4:00 p.m.</td>\n",
       "      <td>2005-01-13 00:00:00</td>\n",
       "      <td>6:00 p.m.</td>\n",
       "      <td>Akron and Mansfield areas</td>\n",
       "      <td>ECAR</td>\n",
       "      <td>Unknown</td>\n",
       "      <td>Ice Storm</td>\n",
       "      <td>246990</td>\n",
       "      <td>250</td>\n",
       "    </tr>\n",
       "    <tr>\n",
       "      <th>2</th>\n",
       "      <td>January</td>\n",
       "      <td>2005-01-05 00:00:00</td>\n",
       "      <td>9:10 p.m.</td>\n",
       "      <td>2005-01-16 00:00:00</td>\n",
       "      <td>11:00 a.m.</td>\n",
       "      <td>Indiana Michigan Region - Muncie District</td>\n",
       "      <td>ECAR</td>\n",
       "      <td>Unknown</td>\n",
       "      <td>Winter Ice Storm</td>\n",
       "      <td>114791</td>\n",
       "      <td>545</td>\n",
       "    </tr>\n",
       "    <tr>\n",
       "      <th>3</th>\n",
       "      <td>January</td>\n",
       "      <td>2005-01-07 00:00:00</td>\n",
       "      <td>1:00 p.m.</td>\n",
       "      <td>2005-10-01 00:00:00</td>\n",
       "      <td>8:00 a.m.</td>\n",
       "      <td>Northern California</td>\n",
       "      <td>WECC</td>\n",
       "      <td>Unknown</td>\n",
       "      <td>Winter Storm</td>\n",
       "      <td>442000</td>\n",
       "      <td>120</td>\n",
       "    </tr>\n",
       "    <tr>\n",
       "      <th>4</th>\n",
       "      <td>January</td>\n",
       "      <td>1/19/2005</td>\n",
       "      <td>9:17 a.m.</td>\n",
       "      <td>2005-01-19 00:00:00</td>\n",
       "      <td>9:27 a.m.</td>\n",
       "      <td>Island of Puerto Rico</td>\n",
       "      <td>PR</td>\n",
       "      <td>Unknown</td>\n",
       "      <td>Voltage Reduction</td>\n",
       "      <td>NaN</td>\n",
       "      <td>209</td>\n",
       "    </tr>\n",
       "  </tbody>\n",
       "</table>\n",
       "</div>"
      ],
      "text/plain": [
       "     Month     Date Event Began Time Event Began  Date of Restoration  \\\n",
       "0  January  2005-01-04 00:00:00       6:00 p.m.   2005-01-14 00:00:00   \n",
       "1  January  2005-01-05 00:00:00        4:00 p.m.  2005-01-13 00:00:00   \n",
       "2  January  2005-01-05 00:00:00        9:10 p.m.  2005-01-16 00:00:00   \n",
       "3  January  2005-01-07 00:00:00        1:00 p.m.  2005-10-01 00:00:00   \n",
       "4  January            1/19/2005        9:17 a.m.  2005-01-19 00:00:00   \n",
       "\n",
       "  Time of Restoration                              Area Affected NERC Region  \\\n",
       "0          12:00 p.m.   Eastern one third of the state of Kansas         SPP   \n",
       "1           6:00 p.m.                  Akron and Mansfield areas        ECAR   \n",
       "2          11:00 a.m.  Indiana Michigan Region - Muncie District        ECAR   \n",
       "3           8:00 a.m.                        Northern California        WECC   \n",
       "4           9:27 a.m.                      Island of Puerto Rico          PR   \n",
       "\n",
       "  Alert Criteria         Event Type Demand Loss (MW)  \\\n",
       "0        Unknown       Winter Storm           211000   \n",
       "1        Unknown          Ice Storm           246990   \n",
       "2        Unknown   Winter Ice Storm           114791   \n",
       "3        Unknown       Winter Storm           442000   \n",
       "4        Unknown  Voltage Reduction              NaN   \n",
       "\n",
       "  Number of Customers Affected  \n",
       "0                          200  \n",
       "1                          250  \n",
       "2                          545  \n",
       "3                          120  \n",
       "4                          209  "
      ]
     },
     "execution_count": 26,
     "metadata": {},
     "output_type": "execute_result"
    }
   ],
   "source": [
    "df.head()"
   ]
  },
  {
   "cell_type": "code",
   "execution_count": 28,
   "metadata": {},
   "outputs": [
    {
     "data": {
      "text/plain": [
       "Month                           object\n",
       "Date Event Began                object\n",
       "Time Event Began                object\n",
       "Date of Restoration             object\n",
       "Time of Restoration             object\n",
       "Area Affected                   object\n",
       "NERC Region                     object\n",
       "Alert Criteria                  object\n",
       "Event Type                      object\n",
       "Demand Loss (MW)                object\n",
       "Number of Customers Affected    object\n",
       "dtype: object"
      ]
     },
     "execution_count": 28,
     "metadata": {},
     "output_type": "execute_result"
    }
   ],
   "source": [
    "df.dtypes"
   ]
  }
 ],
 "metadata": {
  "kernelspec": {
   "display_name": ".venv",
   "language": "python",
   "name": "python3"
  },
  "language_info": {
   "codemirror_mode": {
    "name": "ipython",
    "version": 3
   },
   "file_extension": ".py",
   "mimetype": "text/x-python",
   "name": "python",
   "nbconvert_exporter": "python",
   "pygments_lexer": "ipython3",
   "version": "3.11.5"
  }
 },
 "nbformat": 4,
 "nbformat_minor": 2
}
