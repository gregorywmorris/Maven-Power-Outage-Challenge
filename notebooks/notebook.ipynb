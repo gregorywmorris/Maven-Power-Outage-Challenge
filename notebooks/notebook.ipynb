{
 "cells": [
  {
   "cell_type": "code",
   "execution_count": 102,
   "metadata": {},
   "outputs": [],
   "source": [
    "import pandas as pd "
   ]
  },
  {
   "cell_type": "code",
   "execution_count": 103,
   "metadata": {},
   "outputs": [],
   "source": [
    "df = pd.read_excel('../data/processed/DOE_Stage_2.xlsx')"
   ]
  },
  {
   "cell_type": "code",
   "execution_count": 104,
   "metadata": {},
   "outputs": [
    {
     "data": {
      "text/html": [
       "<div>\n",
       "<style scoped>\n",
       "    .dataframe tbody tr th:only-of-type {\n",
       "        vertical-align: middle;\n",
       "    }\n",
       "\n",
       "    .dataframe tbody tr th {\n",
       "        vertical-align: top;\n",
       "    }\n",
       "\n",
       "    .dataframe thead th {\n",
       "        text-align: right;\n",
       "    }\n",
       "</style>\n",
       "<table border=\"1\" class=\"dataframe\">\n",
       "  <thead>\n",
       "    <tr style=\"text-align: right;\">\n",
       "      <th></th>\n",
       "      <th>Month</th>\n",
       "      <th>Time Event Began</th>\n",
       "      <th>Time of Restoration</th>\n",
       "      <th>Area Affected</th>\n",
       "      <th>NERC Region</th>\n",
       "      <th>Alert Criteria</th>\n",
       "      <th>Event Type</th>\n",
       "      <th>Demand Loss (MW)</th>\n",
       "      <th>Number of Customers Affected</th>\n",
       "    </tr>\n",
       "  </thead>\n",
       "  <tbody>\n",
       "    <tr>\n",
       "      <th>0</th>\n",
       "      <td>January</td>\n",
       "      <td>2011-01-26 09:25</td>\n",
       "      <td>2011-01-27 17:50</td>\n",
       "      <td>Carson City, Nevada</td>\n",
       "      <td>WECC</td>\n",
       "      <td>Unknown</td>\n",
       "      <td>Cyber Event</td>\n",
       "      <td>0</td>\n",
       "      <td>0</td>\n",
       "    </tr>\n",
       "    <tr>\n",
       "      <th>1</th>\n",
       "      <td>February</td>\n",
       "      <td>2011-02-03 14:30</td>\n",
       "      <td>2011-02-03 18:00</td>\n",
       "      <td>Bowie, Maryland</td>\n",
       "      <td>RFC</td>\n",
       "      <td>Unknown</td>\n",
       "      <td>Cyber Event</td>\n",
       "      <td>0</td>\n",
       "      <td>0</td>\n",
       "    </tr>\n",
       "    <tr>\n",
       "      <th>2</th>\n",
       "      <td>February</td>\n",
       "      <td>2011-02-17 13:00</td>\n",
       "      <td>2011-02-23 20:30</td>\n",
       "      <td>Roseville, California</td>\n",
       "      <td>WECC</td>\n",
       "      <td>Unknown</td>\n",
       "      <td>Cyber Event</td>\n",
       "      <td>0</td>\n",
       "      <td>0</td>\n",
       "    </tr>\n",
       "    <tr>\n",
       "      <th>3</th>\n",
       "      <td>March</td>\n",
       "      <td>2011-03-14 07:30</td>\n",
       "      <td>2011-03-14 14:15</td>\n",
       "      <td>Baltimore, Maryland</td>\n",
       "      <td>RFC</td>\n",
       "      <td>Unknown</td>\n",
       "      <td>Cyber Event</td>\n",
       "      <td>0</td>\n",
       "      <td>0</td>\n",
       "    </tr>\n",
       "    <tr>\n",
       "      <th>4</th>\n",
       "      <td>April</td>\n",
       "      <td>2011-04-03 20:23</td>\n",
       "      <td>2011-04-05 11:00</td>\n",
       "      <td>Unknown</td>\n",
       "      <td>SERC</td>\n",
       "      <td>Unknown</td>\n",
       "      <td>Cyber Event</td>\n",
       "      <td>0</td>\n",
       "      <td>0</td>\n",
       "    </tr>\n",
       "  </tbody>\n",
       "</table>\n",
       "</div>"
      ],
      "text/plain": [
       "      Month  Time Event Began Time of Restoration          Area Affected  \\\n",
       "0   January  2011-01-26 09:25    2011-01-27 17:50    Carson City, Nevada   \n",
       "1  February  2011-02-03 14:30    2011-02-03 18:00        Bowie, Maryland   \n",
       "2  February  2011-02-17 13:00    2011-02-23 20:30  Roseville, California   \n",
       "3     March  2011-03-14 07:30    2011-03-14 14:15    Baltimore, Maryland   \n",
       "4     April  2011-04-03 20:23    2011-04-05 11:00                Unknown   \n",
       "\n",
       "  NERC Region Alert Criteria   Event Type Demand Loss (MW)  \\\n",
       "0        WECC        Unknown  Cyber Event                0   \n",
       "1         RFC        Unknown  Cyber Event                0   \n",
       "2        WECC        Unknown  Cyber Event                0   \n",
       "3         RFC        Unknown  Cyber Event                0   \n",
       "4        SERC        Unknown  Cyber Event                0   \n",
       "\n",
       "  Number of Customers Affected  \n",
       "0                            0  \n",
       "1                            0  \n",
       "2                            0  \n",
       "3                            0  \n",
       "4                            0  "
      ]
     },
     "execution_count": 104,
     "metadata": {},
     "output_type": "execute_result"
    }
   ],
   "source": [
    "df.head()"
   ]
  },
  {
   "cell_type": "code",
   "execution_count": 105,
   "metadata": {},
   "outputs": [],
   "source": [
    "col = df.columns.tolist()\n",
    "df = df.rename(str.lower, axis='columns')"
   ]
  },
  {
   "cell_type": "code",
   "execution_count": 106,
   "metadata": {},
   "outputs": [
    {
     "name": "stdout",
     "output_type": "stream",
     "text": [
      "<class 'pandas.core.frame.DataFrame'>\n",
      "RangeIndex: 3892 entries, 0 to 3891\n",
      "Data columns (total 9 columns):\n",
      " #   Column                        Non-Null Count  Dtype \n",
      "---  ------                        --------------  ----- \n",
      " 0   month                         3892 non-null   object\n",
      " 1   time event began              3892 non-null   object\n",
      " 2   time of restoration           3892 non-null   object\n",
      " 3   area affected                 3892 non-null   object\n",
      " 4   nerc region                   3892 non-null   object\n",
      " 5   alert criteria                3892 non-null   object\n",
      " 6   event type                    3892 non-null   object\n",
      " 7   demand loss (mw)              2431 non-null   object\n",
      " 8   number of customers affected  3166 non-null   object\n",
      "dtypes: object(9)\n",
      "memory usage: 273.8+ KB\n"
     ]
    }
   ],
   "source": [
    "df.info()"
   ]
  },
  {
   "cell_type": "code",
   "execution_count": 107,
   "metadata": {},
   "outputs": [],
   "source": [
    "df[\"time event began\"] = pd.to_datetime(df[\"time event began\"], format='%Y-%m-%d %H:%M')\n",
    "df[\"time of restoration\"] = pd.to_datetime(df[\"time of restoration\"], format='%Y-%m-%d %H:%M')"
   ]
  },
  {
   "cell_type": "code",
   "execution_count": 108,
   "metadata": {},
   "outputs": [],
   "source": [
    "df['demand loss (mw)'] = pd.to_numeric(df['demand loss (mw)'], errors='coerce')\n",
    "df['number of customers affected'] = pd.to_numeric(df['number of customers affected'], errors='coerce')"
   ]
  },
  {
   "cell_type": "code",
   "execution_count": 109,
   "metadata": {},
   "outputs": [],
   "source": [
    "# fillna for \"demand loss\" based on Event type and NERC Region averages.\n",
    "df['demand loss (mw)'] = df.groupby(['event type','nerc region'])['demand loss (mw)'].transform(lambda x: x.fillna(x.mean()))\n",
    "df['demand loss (mw)'] = df.groupby(['event type'])['demand loss (mw)'].transform(lambda x: x.fillna(x.mean()))\n",
    "\n",
    "df['demand loss (mw)'] = df['demand loss (mw)'].round(2)"
   ]
  },
  {
   "cell_type": "code",
   "execution_count": 110,
   "metadata": {},
   "outputs": [],
   "source": [
    "# fillna for \"number of customers affected\" based on Event type and NERC Region averages.\n",
    "df['number of customers affected'] = df.groupby(['event type','nerc region'])['number of customers affected'].transform(lambda x: x.fillna(x.mean()))\n",
    "df['number of customers affected'] = df.groupby(['event type'])['number of customers affected'].transform(lambda x: x.fillna(x.mean()))\n",
    "\n",
    "\n",
    "df['number of customers affected'] = df['number of customers affected'].round(0).astype('Int64')"
   ]
  },
  {
   "cell_type": "code",
   "execution_count": 111,
   "metadata": {},
   "outputs": [],
   "source": [
    "# fill in remaing missing values with event type grouping\n",
    "df['demand loss (mw)'] = df.groupby(['event type','nerc region'])['demand loss (mw)'].transform(lambda x: x.fillna(x.mean()))"
   ]
  },
  {
   "cell_type": "code",
   "execution_count": 112,
   "metadata": {},
   "outputs": [
    {
     "name": "stdout",
     "output_type": "stream",
     "text": [
      "<class 'pandas.core.frame.DataFrame'>\n",
      "RangeIndex: 3892 entries, 0 to 3891\n",
      "Data columns (total 9 columns):\n",
      " #   Column                        Non-Null Count  Dtype         \n",
      "---  ------                        --------------  -----         \n",
      " 0   month                         3892 non-null   object        \n",
      " 1   time event began              3892 non-null   datetime64[ns]\n",
      " 2   time of restoration           3892 non-null   datetime64[ns]\n",
      " 3   area affected                 3892 non-null   object        \n",
      " 4   nerc region                   3892 non-null   object        \n",
      " 5   alert criteria                3892 non-null   object        \n",
      " 6   event type                    3892 non-null   object        \n",
      " 7   demand loss (mw)              3892 non-null   float64       \n",
      " 8   number of customers affected  3892 non-null   Int64         \n",
      "dtypes: Int64(1), datetime64[ns](2), float64(1), object(5)\n",
      "memory usage: 277.6+ KB\n"
     ]
    }
   ],
   "source": [
    "df.info()"
   ]
  },
  {
   "cell_type": "code",
   "execution_count": 113,
   "metadata": {},
   "outputs": [],
   "source": [
    "df2 = df.copy()\n",
    "df2 = df2.rename(str.upper, axis='columns')\n",
    "\n",
    "df2.to_excel('../data/processed/DOE_final.xlsx', index=False)"
   ]
  }
 ],
 "metadata": {
  "kernelspec": {
   "display_name": ".venv",
   "language": "python",
   "name": "python3"
  },
  "language_info": {
   "codemirror_mode": {
    "name": "ipython",
    "version": 3
   },
   "file_extension": ".py",
   "mimetype": "text/x-python",
   "name": "python",
   "nbconvert_exporter": "python",
   "pygments_lexer": "ipython3",
   "version": "3.11.5"
  }
 },
 "nbformat": 4,
 "nbformat_minor": 2
}
